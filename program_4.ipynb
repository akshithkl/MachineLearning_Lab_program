{
 "cells": [
  {
   "cell_type": "code",
   "execution_count": null,
   "id": "4ab9b3e7",
   "metadata": {},
   "outputs": [],
   "source": [
    "# Experiment 4: For a given set of training data examples stored in a .CSV file, \n",
    "# implement and demonstrate the Find-S algorithm to output a description of \n",
    "# the set of all hypotheses consistent with the training examples.\n",
    "\n",
    "import csv\n",
    "\n",
    "num_attributes = 4\n",
    "a = []\n",
    "file_path = r\"C:\\Users\\akshi\\OneDrive\\ドキュメント\\Desktop\\exam\\4th_e.txt\"\n"
   ]
  },
  {
   "cell_type": "code",
   "execution_count": 33,
   "id": "d0f4af28",
   "metadata": {},
   "outputs": [
    {
     "name": "stdout",
     "output_type": "stream",
     "text": [
      "['Sunny', 'Warm', 'Normal', 'Strong', 'Yes']\n",
      "['Sunny', 'Warm', 'High', 'Strong', 'Yes']\n",
      "['Rainy', 'Cold', 'High', 'Weak', 'No']\n",
      "['Sunny', 'Warm', 'High', 'Weak', 'Yes']\n"
     ]
    }
   ],
   "source": [
    "with open(file_path, 'r') as csvfile:\n",
    "    reader = csv.reader(csvfile)\n",
    "    \n",
    "    for row in reader:\n",
    "        a.append(row)\n",
    "        print(row)"
   ]
  },
  {
   "cell_type": "code",
   "execution_count": 24,
   "id": "8e06110b",
   "metadata": {},
   "outputs": [
    {
     "name": "stdout",
     "output_type": "stream",
     "text": [
      "\n",
      " Initial value hypothesis\n",
      "['0', '0', '0', '0']\n"
     ]
    }
   ],
   "source": [
    "print(\"\\n Initial value hypothesis\")\n",
    "hypothesis = ['0'] * num_attributes\n",
    "print(hypothesis)"
   ]
  },
  {
   "cell_type": "code",
   "execution_count": 25,
   "id": "36718476",
   "metadata": {},
   "outputs": [
    {
     "name": "stdout",
     "output_type": "stream",
     "text": [
      "['Sunny', '0', '0', '0']\n",
      "['Sunny', 'Warm', '0', '0']\n",
      "['Sunny', 'Warm', 'Normal', '0']\n",
      "['Sunny', 'Warm', 'Normal', 'Strong']\n"
     ]
    }
   ],
   "source": [
    "for j in range(num_attributes):\n",
    "    hypothesis[j] = a[0][j]\n",
    "    print(hypothesis)"
   ]
  },
  {
   "cell_type": "code",
   "execution_count": 26,
   "id": "5e2952d1",
   "metadata": {},
   "outputs": [
    {
     "name": "stdout",
     "output_type": "stream",
     "text": [
      "find-s : finding a maximally specific hypothesis\n",
      "Training example 1 : a0 -> Hypothesis : ['Sunny', 'Warm', 'Normal', 'Strong']\n",
      "Training example 2 : a1 -> Hypothesis : ['Sunny', 'Warm', '?', 'Strong']\n",
      "Training example 4 : a3 -> Hypothesis : ['Sunny', 'Warm', '?', '?']\n"
     ]
    }
   ],
   "source": [
    "print(\"find-s : finding a maximally specific hypothesis\")\n",
    "\n",
    "for i in range(len(a)):\n",
    "    if a[i][num_attributes] == 'Yes':\n",
    "        for j in range(num_attributes):\n",
    "            if a[i][j] != hypothesis[j]:\n",
    "                hypothesis[j] = '?'\n",
    "        \n",
    "        print(f\"Training example {i + 1} : a{i} -> Hypothesis : {hypothesis}\")"
   ]
  },
  {
   "cell_type": "code",
   "execution_count": 27,
   "id": "02ed4928",
   "metadata": {},
   "outputs": [
    {
     "name": "stdout",
     "output_type": "stream",
     "text": [
      "Final hypothesis:\n",
      "['Sunny', 'Warm', '?', '?']\n"
     ]
    }
   ],
   "source": [
    "print(\"Final hypothesis:\")\n",
    "print(hypothesis)"
   ]
  }
 ],
 "metadata": {
  "kernelspec": {
   "display_name": "Python 3",
   "language": "python",
   "name": "python3"
  },
  "language_info": {
   "codemirror_mode": {
    "name": "ipython",
    "version": 3
   },
   "file_extension": ".py",
   "mimetype": "text/x-python",
   "name": "python",
   "nbconvert_exporter": "python",
   "pygments_lexer": "ipython3",
   "version": "3.12.2"
  }
 },
 "nbformat": 4,
 "nbformat_minor": 5
}
