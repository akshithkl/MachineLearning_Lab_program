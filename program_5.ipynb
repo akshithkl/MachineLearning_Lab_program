{
 "cells": [
  {
   "cell_type": "code",
   "execution_count": null,
   "id": "261cb70e",
   "metadata": {},
   "outputs": [],
   "source": [
    "# 5. Develop a program to implement k-Nearest Neighbour \n",
    "# algorithm to classify the randomly generated 100 \n",
    "# values of x in the range of [0,1]. Perform the following \n",
    "# based on dataset generated. \n",
    "# a. Label the first 50 points {x1,……,x50} as follows: if \n",
    "# (xi ≤ 0.5), then xi ε Class1, else xi ε Class2 \n",
    "# b. Classify the remaining points, x51,……,x100 using KNN. \n",
    "# Perform this for k=1,2,3,4,5,20,30 \n",
    "\n",
    "\n",
    "import numpy as np                      \n",
    "from sklearn.neighbors import KNeighborsClassifier  \n"
   ]
  },
  {
   "cell_type": "code",
   "execution_count": null,
   "id": "6516f84b",
   "metadata": {},
   "outputs": [
    {
     "name": "stdout",
     "output_type": "stream",
     "text": [
      "[0.47492018 0.17941932 0.50536902 0.71906689 0.32074151 0.28236005\n",
      " 0.40742173 0.83035086 0.17495651 0.02089556 0.36150244 0.09249188\n",
      " 0.47798554 0.10105409 0.44608228 0.07353622 0.465622   0.98241872\n",
      " 0.13066385 0.5508585  0.70801036 0.03305497 0.69344755 0.6318337\n",
      " 0.76449346 0.59317411 0.26185189 0.58708582 0.60212106 0.11441734\n",
      " 0.05695347 0.08338071 0.2709016  0.21852853 0.44238833 0.47334653\n",
      " 0.82820776 0.88412961 0.1610756  0.19502493 0.87159513 0.98459381\n",
      " 0.16896748 0.4743044  0.76952119 0.12772212 0.62297714 0.53344553\n",
      " 0.34998983 0.53359553 0.88613224 0.2928631  0.01073817 0.18344083\n",
      " 0.11243428 0.34330751 0.29657053 0.50315142 0.90174774 0.25085724\n",
      " 0.03286857 0.49350178 0.37717041 0.7057227  0.37239943 0.43309834\n",
      " 0.49191823 0.6323142  0.85628093 0.6364804  0.55084506 0.01807433\n",
      " 0.32617408 0.35665951 0.94139513 0.57459685 0.66097619 0.50288987\n",
      " 0.44574988 0.77818014 0.50655098 0.13113067 0.53102022 0.63017961\n",
      " 0.67408185 0.15667596 0.62066968 0.93726595 0.28297942 0.1240826\n",
      " 0.86121703 0.71484298 0.21386879 0.98041188 0.12006068 0.8273309\n",
      " 0.89840103 0.27417803 0.66048443 0.51310169]\n"
     ]
    }
   ],
   "source": [
    "data = np.random.rand(100)\n",
    "print(data)\n",
    "print()"
   ]
  },
  {
   "cell_type": "code",
   "execution_count": 6,
   "id": "af31ba44",
   "metadata": {},
   "outputs": [
    {
     "name": "stdout",
     "output_type": "stream",
     "text": [
      "after assing the first 50 data\n",
      "[1. 1. 2. 2. 1. 1. 1. 2. 1. 1. 1. 1. 1. 1. 1. 1. 1. 2. 1. 2. 2. 1. 2. 2.\n",
      " 2. 2. 1. 2. 2. 1. 1. 1. 1. 1. 1. 1. 2. 2. 1. 1. 2. 2. 1. 1. 2. 1. 2. 2.\n",
      " 1. 2. 0. 0. 0. 0. 0. 0. 0. 0. 0. 0. 0. 0. 0. 0. 0. 0. 0. 0. 0. 0. 0. 0.\n",
      " 0. 0. 0. 0. 0. 0. 0. 0. 0. 0. 0. 0. 0. 0. 0. 0. 0. 0. 0. 0. 0. 0. 0. 0.\n",
      " 0. 0. 0. 0.]\n",
      "\n"
     ]
    }
   ],
   "source": [
    "labels = np.zeros(100)\n",
    "labels[:50] = np.where(data[:50] <= 0.5, 1, 2)\n",
    "\n",
    "print(\"after assing the first 50 data\")\n",
    "print(labels)\n",
    "print()"
   ]
  },
  {
   "cell_type": "code",
   "execution_count": 10,
   "id": "c8297633",
   "metadata": {},
   "outputs": [
    {
     "name": "stdout",
     "output_type": "stream",
     "text": [
      "K =  1\n",
      "predicted label : [2. 1. 1. 1. 1. 1. 1. 2. 2. 1. 1. 2. 1. 2. 1. 1. 2. 2. 2. 2. 2. 1. 1. 1.\n",
      " 2. 2. 2. 2. 1. 2. 2. 1. 2. 2. 2. 1. 2. 2. 1. 1. 2. 2. 1. 2. 1. 2. 2. 1.\n",
      " 2. 2.]\n",
      "K =  2\n",
      "predicted label : [2. 1. 1. 1. 1. 1. 1. 1. 2. 1. 1. 1. 1. 2. 1. 1. 1. 2. 2. 2. 2. 1. 1. 1.\n",
      " 2. 2. 2. 1. 1. 2. 2. 1. 2. 2. 2. 1. 2. 2. 1. 1. 2. 2. 1. 2. 1. 2. 2. 1.\n",
      " 2. 2.]\n",
      "K =  3\n",
      "predicted label : [2. 1. 1. 1. 1. 1. 1. 1. 2. 1. 1. 1. 1. 2. 1. 1. 1. 2. 2. 2. 2. 1. 1. 1.\n",
      " 2. 2. 2. 1. 1. 2. 2. 1. 2. 2. 2. 1. 2. 2. 1. 1. 2. 2. 1. 2. 1. 2. 2. 1.\n",
      " 2. 2.]\n",
      "K =  4\n",
      "predicted label : [2. 1. 1. 1. 1. 1. 1. 1. 2. 1. 1. 1. 1. 2. 1. 1. 1. 2. 2. 2. 2. 1. 1. 1.\n",
      " 2. 2. 2. 1. 1. 2. 2. 1. 2. 2. 2. 1. 2. 2. 1. 1. 2. 2. 1. 2. 1. 2. 2. 1.\n",
      " 2. 2.]\n",
      "K =  5\n",
      "predicted label : [2. 1. 1. 1. 1. 1. 1. 1. 2. 1. 1. 1. 1. 2. 1. 1. 1. 2. 2. 2. 2. 1. 1. 1.\n",
      " 2. 2. 2. 1. 1. 2. 2. 1. 2. 2. 2. 1. 2. 2. 1. 1. 2. 2. 1. 2. 1. 2. 2. 1.\n",
      " 2. 2.]\n",
      "K =  20\n",
      "predicted label : [2. 1. 1. 1. 1. 1. 1. 1. 2. 1. 1. 1. 1. 2. 1. 1. 1. 2. 2. 2. 2. 1. 1. 1.\n",
      " 2. 2. 2. 1. 1. 2. 1. 1. 2. 2. 2. 1. 2. 2. 1. 1. 2. 2. 1. 2. 1. 2. 2. 1.\n",
      " 2. 1.]\n",
      "K =  30\n",
      "predicted label : [2. 1. 1. 1. 1. 1. 1. 1. 2. 1. 1. 1. 1. 2. 1. 1. 1. 2. 2. 2. 2. 1. 1. 1.\n",
      " 2. 2. 2. 1. 1. 2. 1. 1. 2. 2. 2. 1. 2. 2. 1. 1. 2. 2. 1. 2. 1. 2. 2. 1.\n",
      " 2. 1.]\n"
     ]
    }
   ],
   "source": [
    "train_data = data[:50].reshape(-1, 1)\n",
    "train_labels = labels[:50]\n",
    "test_data = data[50:].reshape(-1, 1)\n",
    "\n",
    "k_values = [1, 2, 3, 4, 5, 20, 30]\n",
    "\n",
    "for k in k_values:\n",
    "    knn = KNeighborsClassifier(n_neighbors = k)\n",
    "    knn.fit(train_data, train_labels)\n",
    "    predicted_labels = knn.predict(test_data)\n",
    "    print(\"K = \",k)\n",
    "    print(\"predicted label :\", predicted_labels)\n",
    "    "
   ]
  }
 ],
 "metadata": {
  "kernelspec": {
   "display_name": "Python 3",
   "language": "python",
   "name": "python3"
  },
  "language_info": {
   "codemirror_mode": {
    "name": "ipython",
    "version": 3
   },
   "file_extension": ".py",
   "mimetype": "text/x-python",
   "name": "python",
   "nbconvert_exporter": "python",
   "pygments_lexer": "ipython3",
   "version": "3.12.2"
  }
 },
 "nbformat": 4,
 "nbformat_minor": 5
}
